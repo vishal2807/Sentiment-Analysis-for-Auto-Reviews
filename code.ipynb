{
 "cells": [
  {
   "cell_type": "markdown",
   "metadata": {
    "id": "_3ZWJlO6JOqY"
   },
   "source": [
    "Let's install all require libraries"
   ]
  },
  {
   "cell_type": "code",
   "execution_count": 1,
   "metadata": {
    "colab": {
     "base_uri": "https://localhost:8080/"
    },
    "executionInfo": {
     "elapsed": 67899,
     "status": "ok",
     "timestamp": 1722325591521,
     "user": {
      "displayName": "Vishal Bachal",
      "userId": "12745285610469294687"
     },
     "user_tz": -60
    },
    "id": "81A_4_dKJV4Y",
    "outputId": "5fd6a641-1c1f-46da-9b68-10197abecfbc"
   },
   "outputs": [
    {
     "name": "stdout",
     "output_type": "stream",
     "text": [
      "Requirement already satisfied: transformers in /usr/local/lib/python3.10/dist-packages (4.42.4)\n",
      "Requirement already satisfied: filelock in /usr/local/lib/python3.10/dist-packages (from transformers) (3.15.4)\n",
      "Requirement already satisfied: huggingface-hub<1.0,>=0.23.2 in /usr/local/lib/python3.10/dist-packages (from transformers) (0.23.5)\n",
      "Requirement already satisfied: numpy<2.0,>=1.17 in /usr/local/lib/python3.10/dist-packages (from transformers) (1.26.4)\n",
      "Requirement already satisfied: packaging>=20.0 in /usr/local/lib/python3.10/dist-packages (from transformers) (24.1)\n",
      "Requirement already satisfied: pyyaml>=5.1 in /usr/local/lib/python3.10/dist-packages (from transformers) (6.0.1)\n",
      "Requirement already satisfied: regex!=2019.12.17 in /usr/local/lib/python3.10/dist-packages (from transformers) (2024.5.15)\n",
      "Requirement already satisfied: requests in /usr/local/lib/python3.10/dist-packages (from transformers) (2.31.0)\n",
      "Requirement already satisfied: safetensors>=0.4.1 in /usr/local/lib/python3.10/dist-packages (from transformers) (0.4.3)\n",
      "Requirement already satisfied: tokenizers<0.20,>=0.19 in /usr/local/lib/python3.10/dist-packages (from transformers) (0.19.1)\n",
      "Requirement already satisfied: tqdm>=4.27 in /usr/local/lib/python3.10/dist-packages (from transformers) (4.66.4)\n",
      "Requirement already satisfied: fsspec>=2023.5.0 in /usr/local/lib/python3.10/dist-packages (from huggingface-hub<1.0,>=0.23.2->transformers) (2024.6.1)\n",
      "Requirement already satisfied: typing-extensions>=3.7.4.3 in /usr/local/lib/python3.10/dist-packages (from huggingface-hub<1.0,>=0.23.2->transformers) (4.12.2)\n",
      "Requirement already satisfied: charset-normalizer<4,>=2 in /usr/local/lib/python3.10/dist-packages (from requests->transformers) (3.3.2)\n",
      "Requirement already satisfied: idna<4,>=2.5 in /usr/local/lib/python3.10/dist-packages (from requests->transformers) (3.7)\n",
      "Requirement already satisfied: urllib3<3,>=1.21.1 in /usr/local/lib/python3.10/dist-packages (from requests->transformers) (2.0.7)\n",
      "Requirement already satisfied: certifi>=2017.4.17 in /usr/local/lib/python3.10/dist-packages (from requests->transformers) (2024.7.4)\n",
      "Requirement already satisfied: scikit-learn in /usr/local/lib/python3.10/dist-packages (1.3.2)\n",
      "Requirement already satisfied: numpy<2.0,>=1.17.3 in /usr/local/lib/python3.10/dist-packages (from scikit-learn) (1.26.4)\n",
      "Requirement already satisfied: scipy>=1.5.0 in /usr/local/lib/python3.10/dist-packages (from scikit-learn) (1.13.1)\n",
      "Requirement already satisfied: joblib>=1.1.1 in /usr/local/lib/python3.10/dist-packages (from scikit-learn) (1.4.2)\n",
      "Requirement already satisfied: threadpoolctl>=2.0.0 in /usr/local/lib/python3.10/dist-packages (from scikit-learn) (3.5.0)\n",
      "Requirement already satisfied: xgboost in /usr/local/lib/python3.10/dist-packages (2.1.0)\n",
      "Requirement already satisfied: numpy in /usr/local/lib/python3.10/dist-packages (from xgboost) (1.26.4)\n",
      "Collecting nvidia-nccl-cu12 (from xgboost)\n",
      "  Downloading nvidia_nccl_cu12-2.22.3-py3-none-manylinux2014_x86_64.whl.metadata (1.8 kB)\n",
      "Requirement already satisfied: scipy in /usr/local/lib/python3.10/dist-packages (from xgboost) (1.13.1)\n",
      "Downloading nvidia_nccl_cu12-2.22.3-py3-none-manylinux2014_x86_64.whl (190.9 MB)\n",
      "\u001b[2K   \u001b[90m━━━━━━━━━━━━━━━━━━━━━━━━━━━━━━━━━━━━━━━━\u001b[0m \u001b[32m190.9/190.9 MB\u001b[0m \u001b[31m5.0 MB/s\u001b[0m eta \u001b[36m0:00:00\u001b[0m\n",
      "\u001b[?25hInstalling collected packages: nvidia-nccl-cu12\n",
      "\u001b[31mERROR: pip's dependency resolver does not currently take into account all the packages that are installed. This behaviour is the source of the following dependency conflicts.\n",
      "torch 2.3.1+cu121 requires nvidia-cublas-cu12==12.1.3.1; platform_system == \"Linux\" and platform_machine == \"x86_64\", which is not installed.\n",
      "torch 2.3.1+cu121 requires nvidia-cuda-cupti-cu12==12.1.105; platform_system == \"Linux\" and platform_machine == \"x86_64\", which is not installed.\n",
      "torch 2.3.1+cu121 requires nvidia-cuda-nvrtc-cu12==12.1.105; platform_system == \"Linux\" and platform_machine == \"x86_64\", which is not installed.\n",
      "torch 2.3.1+cu121 requires nvidia-cuda-runtime-cu12==12.1.105; platform_system == \"Linux\" and platform_machine == \"x86_64\", which is not installed.\n",
      "torch 2.3.1+cu121 requires nvidia-cudnn-cu12==8.9.2.26; platform_system == \"Linux\" and platform_machine == \"x86_64\", which is not installed.\n",
      "torch 2.3.1+cu121 requires nvidia-cufft-cu12==11.0.2.54; platform_system == \"Linux\" and platform_machine == \"x86_64\", which is not installed.\n",
      "torch 2.3.1+cu121 requires nvidia-curand-cu12==10.3.2.106; platform_system == \"Linux\" and platform_machine == \"x86_64\", which is not installed.\n",
      "torch 2.3.1+cu121 requires nvidia-cusolver-cu12==11.4.5.107; platform_system == \"Linux\" and platform_machine == \"x86_64\", which is not installed.\n",
      "torch 2.3.1+cu121 requires nvidia-cusparse-cu12==12.1.0.106; platform_system == \"Linux\" and platform_machine == \"x86_64\", which is not installed.\n",
      "torch 2.3.1+cu121 requires nvidia-nvtx-cu12==12.1.105; platform_system == \"Linux\" and platform_machine == \"x86_64\", which is not installed.\n",
      "torch 2.3.1+cu121 requires nvidia-nccl-cu12==2.20.5; platform_system == \"Linux\" and platform_machine == \"x86_64\", but you have nvidia-nccl-cu12 2.22.3 which is incompatible.\u001b[0m\u001b[31m\n",
      "\u001b[0mSuccessfully installed nvidia-nccl-cu12-2.22.3\n",
      "Requirement already satisfied: seaborn in /usr/local/lib/python3.10/dist-packages (0.13.1)\n",
      "Requirement already satisfied: numpy!=1.24.0,>=1.20 in /usr/local/lib/python3.10/dist-packages (from seaborn) (1.26.4)\n",
      "Requirement already satisfied: pandas>=1.2 in /usr/local/lib/python3.10/dist-packages (from seaborn) (2.1.4)\n",
      "Requirement already satisfied: matplotlib!=3.6.1,>=3.4 in /usr/local/lib/python3.10/dist-packages (from seaborn) (3.7.1)\n",
      "Requirement already satisfied: contourpy>=1.0.1 in /usr/local/lib/python3.10/dist-packages (from matplotlib!=3.6.1,>=3.4->seaborn) (1.2.1)\n",
      "Requirement already satisfied: cycler>=0.10 in /usr/local/lib/python3.10/dist-packages (from matplotlib!=3.6.1,>=3.4->seaborn) (0.12.1)\n",
      "Requirement already satisfied: fonttools>=4.22.0 in /usr/local/lib/python3.10/dist-packages (from matplotlib!=3.6.1,>=3.4->seaborn) (4.53.1)\n",
      "Requirement already satisfied: kiwisolver>=1.0.1 in /usr/local/lib/python3.10/dist-packages (from matplotlib!=3.6.1,>=3.4->seaborn) (1.4.5)\n",
      "Requirement already satisfied: packaging>=20.0 in /usr/local/lib/python3.10/dist-packages (from matplotlib!=3.6.1,>=3.4->seaborn) (24.1)\n",
      "Requirement already satisfied: pillow>=6.2.0 in /usr/local/lib/python3.10/dist-packages (from matplotlib!=3.6.1,>=3.4->seaborn) (9.4.0)\n",
      "Requirement already satisfied: pyparsing>=2.3.1 in /usr/local/lib/python3.10/dist-packages (from matplotlib!=3.6.1,>=3.4->seaborn) (3.1.2)\n",
      "Requirement already satisfied: python-dateutil>=2.7 in /usr/local/lib/python3.10/dist-packages (from matplotlib!=3.6.1,>=3.4->seaborn) (2.8.2)\n",
      "Requirement already satisfied: pytz>=2020.1 in /usr/local/lib/python3.10/dist-packages (from pandas>=1.2->seaborn) (2024.1)\n",
      "Requirement already satisfied: tzdata>=2022.1 in /usr/local/lib/python3.10/dist-packages (from pandas>=1.2->seaborn) (2024.1)\n",
      "Requirement already satisfied: six>=1.5 in /usr/local/lib/python3.10/dist-packages (from python-dateutil>=2.7->matplotlib!=3.6.1,>=3.4->seaborn) (1.16.0)\n",
      "Requirement already satisfied: matplotlib in /usr/local/lib/python3.10/dist-packages (3.7.1)\n",
      "Requirement already satisfied: contourpy>=1.0.1 in /usr/local/lib/python3.10/dist-packages (from matplotlib) (1.2.1)\n",
      "Requirement already satisfied: cycler>=0.10 in /usr/local/lib/python3.10/dist-packages (from matplotlib) (0.12.1)\n",
      "Requirement already satisfied: fonttools>=4.22.0 in /usr/local/lib/python3.10/dist-packages (from matplotlib) (4.53.1)\n",
      "Requirement already satisfied: kiwisolver>=1.0.1 in /usr/local/lib/python3.10/dist-packages (from matplotlib) (1.4.5)\n",
      "Requirement already satisfied: numpy>=1.20 in /usr/local/lib/python3.10/dist-packages (from matplotlib) (1.26.4)\n",
      "Requirement already satisfied: packaging>=20.0 in /usr/local/lib/python3.10/dist-packages (from matplotlib) (24.1)\n",
      "Requirement already satisfied: pillow>=6.2.0 in /usr/local/lib/python3.10/dist-packages (from matplotlib) (9.4.0)\n",
      "Requirement already satisfied: pyparsing>=2.3.1 in /usr/local/lib/python3.10/dist-packages (from matplotlib) (3.1.2)\n",
      "Requirement already satisfied: python-dateutil>=2.7 in /usr/local/lib/python3.10/dist-packages (from matplotlib) (2.8.2)\n",
      "Requirement already satisfied: six>=1.5 in /usr/local/lib/python3.10/dist-packages (from python-dateutil>=2.7->matplotlib) (1.16.0)\n",
      "Requirement already satisfied: nltk in /usr/local/lib/python3.10/dist-packages (3.8.1)\n",
      "Requirement already satisfied: click in /usr/local/lib/python3.10/dist-packages (from nltk) (8.1.7)\n",
      "Requirement already satisfied: joblib in /usr/local/lib/python3.10/dist-packages (from nltk) (1.4.2)\n",
      "Requirement already satisfied: regex>=2021.8.3 in /usr/local/lib/python3.10/dist-packages (from nltk) (2024.5.15)\n",
      "Requirement already satisfied: tqdm in /usr/local/lib/python3.10/dist-packages (from nltk) (4.66.4)\n",
      "Requirement already satisfied: joblib in /usr/local/lib/python3.10/dist-packages (1.4.2)\n",
      "Requirement already satisfied: pandas in /usr/local/lib/python3.10/dist-packages (2.1.4)\n",
      "Requirement already satisfied: numpy<2,>=1.22.4 in /usr/local/lib/python3.10/dist-packages (from pandas) (1.26.4)\n",
      "Requirement already satisfied: python-dateutil>=2.8.2 in /usr/local/lib/python3.10/dist-packages (from pandas) (2.8.2)\n",
      "Requirement already satisfied: pytz>=2020.1 in /usr/local/lib/python3.10/dist-packages (from pandas) (2024.1)\n",
      "Requirement already satisfied: tzdata>=2022.1 in /usr/local/lib/python3.10/dist-packages (from pandas) (2024.1)\n",
      "Requirement already satisfied: six>=1.5 in /usr/local/lib/python3.10/dist-packages (from python-dateutil>=2.8.2->pandas) (1.16.0)\n",
      "Collecting umap-learn\n",
      "  Downloading umap_learn-0.5.6-py3-none-any.whl.metadata (21 kB)\n",
      "Requirement already satisfied: numpy>=1.17 in /usr/local/lib/python3.10/dist-packages (from umap-learn) (1.26.4)\n",
      "Requirement already satisfied: scipy>=1.3.1 in /usr/local/lib/python3.10/dist-packages (from umap-learn) (1.13.1)\n",
      "Requirement already satisfied: scikit-learn>=0.22 in /usr/local/lib/python3.10/dist-packages (from umap-learn) (1.3.2)\n",
      "Requirement already satisfied: numba>=0.51.2 in /usr/local/lib/python3.10/dist-packages (from umap-learn) (0.60.0)\n",
      "Collecting pynndescent>=0.5 (from umap-learn)\n",
      "  Downloading pynndescent-0.5.13-py3-none-any.whl.metadata (6.8 kB)\n",
      "Requirement already satisfied: tqdm in /usr/local/lib/python3.10/dist-packages (from umap-learn) (4.66.4)\n",
      "Requirement already satisfied: llvmlite<0.44,>=0.43.0dev0 in /usr/local/lib/python3.10/dist-packages (from numba>=0.51.2->umap-learn) (0.43.0)\n",
      "Requirement already satisfied: joblib>=0.11 in /usr/local/lib/python3.10/dist-packages (from pynndescent>=0.5->umap-learn) (1.4.2)\n",
      "Requirement already satisfied: threadpoolctl>=2.0.0 in /usr/local/lib/python3.10/dist-packages (from scikit-learn>=0.22->umap-learn) (3.5.0)\n",
      "Downloading umap_learn-0.5.6-py3-none-any.whl (85 kB)\n",
      "\u001b[2K   \u001b[90m━━━━━━━━━━━━━━━━━━━━━━━━━━━━━━━━━━━━━━━━\u001b[0m \u001b[32m85.7/85.7 kB\u001b[0m \u001b[31m3.6 MB/s\u001b[0m eta \u001b[36m0:00:00\u001b[0m\n",
      "\u001b[?25hDownloading pynndescent-0.5.13-py3-none-any.whl (56 kB)\n",
      "\u001b[2K   \u001b[90m━━━━━━━━━━━━━━━━━━━━━━━━━━━━━━━━━━━━━━━━\u001b[0m \u001b[32m56.9/56.9 kB\u001b[0m \u001b[31m4.6 MB/s\u001b[0m eta \u001b[36m0:00:00\u001b[0m\n",
      "\u001b[?25hInstalling collected packages: pynndescent, umap-learn\n",
      "Successfully installed pynndescent-0.5.13 umap-learn-0.5.6\n"
     ]
    }
   ],
   "source": [
    "!pip install transformers\n",
    "!pip install scikit-learn\n",
    "!pip install xgboost\n",
    "!pip install seaborn\n",
    "!pip install matplotlib\n",
    "!pip install nltk\n",
    "!pip install joblib\n",
    "!pip install pandas\n",
    "!pip install umap-learn"
   ]
  },
  {
   "cell_type": "markdown",
   "metadata": {
    "id": "U5XEt6asIi3Q"
   },
   "source": [
    "Let's import all require libraries.\n"
   ]
  },
  {
   "cell_type": "code",
   "execution_count": 2,
   "metadata": {
    "executionInfo": {
     "elapsed": 41519,
     "status": "ok",
     "timestamp": 1722325633032,
     "user": {
      "displayName": "Vishal Bachal",
      "userId": "12745285610469294687"
     },
     "user_tz": -60
    },
    "id": "TKEZRYhIImbg"
   },
   "outputs": [],
   "source": [
    "import numpy as np\n",
    "import os\n",
    "import pickle\n",
    "import pandas as pd\n",
    "from sklearn.feature_extraction.text import TfidfVectorizer,CountVectorizer\n",
    "from sklearn.cluster import KMeans\n",
    "from sklearn.pipeline import Pipeline\n",
    "from sklearn.preprocessing import FunctionTransformer\n",
    "import joblib\n",
    "import nltk\n",
    "from nltk.corpus import stopwords\n",
    "from nltk.stem import WordNetLemmatizer\n",
    "from sklearn.model_selection import GridSearchCV,train_test_split\n",
    "from sklearn.metrics import accuracy_score, confusion_matrix, f1_score,silhouette_score\n",
    "import matplotlib.pyplot as plt\n",
    "import seaborn as sns\n",
    "import xgboost as xgb\n",
    "from nltk.stem import WordNetLemmatizer\n",
    "from umap import UMAP"
   ]
  },
  {
   "cell_type": "markdown",
   "metadata": {
    "id": "pd5kSsAPZoE6"
   },
   "source": [
    "**Let's put student id as a variable.**"
   ]
  },
  {
   "cell_type": "code",
   "execution_count": 3,
   "metadata": {
    "executionInfo": {
     "elapsed": 18,
     "status": "ok",
     "timestamp": 1722325633033,
     "user": {
      "displayName": "Vishal Bachal",
      "userId": "12745285610469294687"
     },
     "user_tz": -60
    },
    "id": "rqP6pp_3ZkVy"
   },
   "outputs": [],
   "source": [
    "student_id = 2320792 # Note this is an interger and you need to input your id"
   ]
  },
  {
   "cell_type": "markdown",
   "metadata": {
    "id": "RiLUrQ-3zC6V"
   },
   "source": [
    "Let's set `seed` for all libraries like `torch`, `numpy` etc as my student id"
   ]
  },
  {
   "cell_type": "code",
   "execution_count": 4,
   "metadata": {
    "executionInfo": {
     "elapsed": 15,
     "status": "ok",
     "timestamp": 1722325633034,
     "user": {
      "displayName": "Vishal Bachal",
      "userId": "12745285610469294687"
     },
     "user_tz": -60
    },
    "id": "TYUn2tj3zCFq"
   },
   "outputs": [],
   "source": [
    "# set same seeds for all libraries\n",
    "#numpy seed\n",
    "np.random.seed(student_id)"
   ]
  },
  {
   "cell_type": "markdown",
   "metadata": {
    "id": "Dlj_VQrkbLgM"
   },
   "source": [
    "# Common Codes\n",
    "\n",
    "In this section you will write all common codes, for examples\n",
    "\n",
    "\n",
    "*   Data read\n",
    "*   Command Line argument reading\n",
    "*   Performance Matrics\n",
    "*   Print Dataset Statistics\n",
    "*   Saving model and output\n",
    "*   Loading Model and output\n",
    "*   etc\n",
    "\n",
    "\n"
   ]
  },
  {
   "cell_type": "code",
   "execution_count": 6,
   "metadata": {
    "colab": {
     "base_uri": "https://localhost:8080/"
    },
    "executionInfo": {
     "elapsed": 355,
     "status": "ok",
     "timestamp": 1722325702038,
     "user": {
      "displayName": "Vishal Bachal",
      "userId": "12745285610469294687"
     },
     "user_tz": -60
    },
    "id": "8_vXkfWmi9mA",
    "outputId": "3b6bac62-96e5-4e83-b900-15a9f0ea542f"
   },
   "outputs": [
    {
     "name": "stdout",
     "output_type": "stream",
     "text": [
      "Path already exists: /content/gdrive/MyDrive/CE807-24-SU/Assignment/model/2320792/Model_Unsup\n",
      "Path already exists: /content/gdrive/MyDrive/CE807-24-SU/Assignment/model/2320792/Model_Dis\n"
     ]
    }
   ],
   "source": [
    "# Your Code(s)\n",
    "PATH_AFTER_MYDRIVE = 'D:/git/Sentiment Analysis for Auto Reviews/'\n",
    "MODEL_DIR = os.path.join('/content/gdrive/MyDrive/', PATH_AFTER_MYDRIVE, 'model')\n",
    "DATA_DIR = os.path.join('/content/gdrive/MyDrive/',PATH_AFTER_MYDRIVE, 'data/21')\n",
    "\n",
    "Model_Unsup = os.path.join(MODEL_DIR, str(student_id), 'Model_Unsup')\n",
    "Model_Dis = os.path.join(MODEL_DIR, str(student_id), 'Model_Dis')\n",
    "\n",
    "def create_path_if_not_exists(path):\n",
    "    if not os.path.exists(path):\n",
    "        os.makedirs(path)\n",
    "        print(f\"Created directories for path: {path}\")\n",
    "    else:\n",
    "        print(f\"Path already exists: {path}\")\n",
    "\n",
    "create_path_if_not_exists(Model_Unsup)\n",
    "create_path_if_not_exists(Model_Dis)\n"
   ]
  },
  {
   "cell_type": "code",
   "execution_count": 7,
   "metadata": {
    "colab": {
     "base_uri": "https://localhost:8080/"
    },
    "executionInfo": {
     "elapsed": 823,
     "status": "ok",
     "timestamp": 1722325702858,
     "user": {
      "displayName": "Vishal Bachal",
      "userId": "12745285610469294687"
     },
     "user_tz": -60
    },
    "id": "ZdvW0zEpMDWk",
    "outputId": "af3dafa2-7089-4870-c066-78f85c39a6f6"
   },
   "outputs": [
    {
     "name": "stderr",
     "output_type": "stream",
     "text": [
      "[nltk_data] Downloading package stopwords to /root/nltk_data...\n",
      "[nltk_data]   Unzipping corpora/stopwords.zip.\n",
      "[nltk_data] Downloading package wordnet to /root/nltk_data...\n",
      "[nltk_data] Downloading package punkt to /root/nltk_data...\n",
      "[nltk_data]   Unzipping tokenizers/punkt.zip.\n",
      "[nltk_data] Downloading package wordnet to /root/nltk_data...\n",
      "[nltk_data]   Package wordnet is already up-to-date!\n"
     ]
    },
    {
     "data": {
      "text/plain": [
       "True"
      ]
     },
     "execution_count": 7,
     "metadata": {},
     "output_type": "execute_result"
    }
   ],
   "source": [
    "# Download NLTK data\n",
    "nltk.download('stopwords')\n",
    "nltk.download('wordnet')\n",
    "nltk.download('punkt')\n",
    "nltk.download('wordnet')"
   ]
  },
  {
   "cell_type": "code",
   "execution_count": 8,
   "metadata": {
    "executionInfo": {
     "elapsed": 1071,
     "status": "ok",
     "timestamp": 1722325703925,
     "user": {
      "displayName": "Vishal Bachal",
      "userId": "12745285610469294687"
     },
     "user_tz": -60
    },
    "id": "uTujGRCWMHwu"
   },
   "outputs": [],
   "source": [
    "# Step 1: Data Reading\n",
    "train_file =  os.path.join(DATA_DIR,'train.csv')\n",
    "validation_file = os.path.join(DATA_DIR,'valid.csv')\n",
    "test_file = os.path.join(DATA_DIR,'test.csv')\n",
    "\n",
    "# Reading the data\n",
    "train_data = pd.read_csv(train_file)\n",
    "valid_data = pd.read_csv(validation_file)\n",
    "test_data = pd.read_csv(test_file)\n",
    "\n",
    "\n",
    "# Fill missing values with empty string\n",
    "train_data['text'].fillna('', inplace=True)\n",
    "valid_data['text'].fillna('', inplace=True)\n",
    "test_data['text'].fillna('', inplace=True)"
   ]
  },
  {
   "cell_type": "code",
   "execution_count": 9,
   "metadata": {
    "colab": {
     "base_uri": "https://localhost:8080/",
     "height": 206
    },
    "executionInfo": {
     "elapsed": 27,
     "status": "ok",
     "timestamp": 1722325703926,
     "user": {
      "displayName": "Vishal Bachal",
      "userId": "12745285610469294687"
     },
     "user_tz": -60
    },
    "id": "UFGWXuRWMLMb",
    "outputId": "965ee3cd-232f-4c8a-d7fd-a179855388e8"
   },
   "outputs": [
    {
     "data": {
      "application/vnd.google.colaboratory.intrinsic+json": {
       "summary": "{\n  \"name\": \"train_data\",\n  \"rows\": 3681,\n  \"fields\": [\n    {\n      \"column\": \"sentiment\",\n      \"properties\": {\n        \"dtype\": \"category\",\n        \"num_unique_values\": 2,\n        \"samples\": [\n          \"positive\",\n          \"negative\"\n        ],\n        \"semantic_type\": \"\",\n        \"description\": \"\"\n      }\n    },\n    {\n      \"column\": \"text\",\n      \"properties\": {\n        \"dtype\": \"string\",\n        \"num_unique_values\": 3534,\n        \"samples\": [\n          \"This wasn't the same as the original. The attachment method for the lock cylinder was different. I had to take it apart and swap the handle only instead of replacing the whole assembly. Turned out to be a  PITA\",\n          \"This review was written by my husband because well, I have no clue how to put shocks on a truck..lol And since I watched, there was no way, no how I could even begin to try to.<br /><br />Arrived earlier than expected which was great because it gave me the weekend to get them put on.<br />I have a 2014 F350 SRW long bed (12,000 miles) and my daily commute consists of driving several miles on a concrete highway with a ton of expansion joints. As many others have experienced, I was bouncing so much that I felt my bones would rattle themselves apart. I couldn't even drink my coffee on the way to work without spilling it everywhere. The stock Rancho shocks were pure garbage.<br /><br />I bought this set after seeing many people say it was a great improvement. To me, that is an understatement. It's like the difference between night and day with these on. Sure, it's not 100% smooth like a Cadillac, but there's such a huge improvement on the ride, it just makes me love my truck even more, not to mention I can now enjoy my coffee on the way to work. No more feeling like the bounce would make me wreck (yes, it was that bad).<br /><br />I highly recommend that anyone with a Ford F250/F350 that has that wicked bounce, buy these. I doubt you will be disappointed.\"\n        ],\n        \"semantic_type\": \"\",\n        \"description\": \"\"\n      }\n    }\n  ]\n}",
       "type": "dataframe",
       "variable_name": "train_data"
      },
      "text/html": [
       "\n",
       "  <div id=\"df-f070abc0-6e75-4a21-8d42-546d43ae2984\" class=\"colab-df-container\">\n",
       "    <div>\n",
       "<style scoped>\n",
       "    .dataframe tbody tr th:only-of-type {\n",
       "        vertical-align: middle;\n",
       "    }\n",
       "\n",
       "    .dataframe tbody tr th {\n",
       "        vertical-align: top;\n",
       "    }\n",
       "\n",
       "    .dataframe thead th {\n",
       "        text-align: right;\n",
       "    }\n",
       "</style>\n",
       "<table border=\"1\" class=\"dataframe\">\n",
       "  <thead>\n",
       "    <tr style=\"text-align: right;\">\n",
       "      <th></th>\n",
       "      <th>sentiment</th>\n",
       "      <th>text</th>\n",
       "    </tr>\n",
       "  </thead>\n",
       "  <tbody>\n",
       "    <tr>\n",
       "      <th>0</th>\n",
       "      <td>negative</td>\n",
       "      <td>Crappy knockoff. Didn't work for my vehicle,  ...</td>\n",
       "    </tr>\n",
       "    <tr>\n",
       "      <th>1</th>\n",
       "      <td>positive</td>\n",
       "      <td>Does as it is advertised.  For best results, l...</td>\n",
       "    </tr>\n",
       "    <tr>\n",
       "      <th>2</th>\n",
       "      <td>positive</td>\n",
       "      <td>Perfect fit, sealed well.</td>\n",
       "    </tr>\n",
       "    <tr>\n",
       "      <th>3</th>\n",
       "      <td>negative</td>\n",
       "      <td>The light is white, but the light output is ho...</td>\n",
       "    </tr>\n",
       "    <tr>\n",
       "      <th>4</th>\n",
       "      <td>positive</td>\n",
       "      <td>I have bought shades for my automobiles in the...</td>\n",
       "    </tr>\n",
       "  </tbody>\n",
       "</table>\n",
       "</div>\n",
       "    <div class=\"colab-df-buttons\">\n",
       "\n",
       "  <div class=\"colab-df-container\">\n",
       "    <button class=\"colab-df-convert\" onclick=\"convertToInteractive('df-f070abc0-6e75-4a21-8d42-546d43ae2984')\"\n",
       "            title=\"Convert this dataframe to an interactive table.\"\n",
       "            style=\"display:none;\">\n",
       "\n",
       "  <svg xmlns=\"http://www.w3.org/2000/svg\" height=\"24px\" viewBox=\"0 -960 960 960\">\n",
       "    <path d=\"M120-120v-720h720v720H120Zm60-500h600v-160H180v160Zm220 220h160v-160H400v160Zm0 220h160v-160H400v160ZM180-400h160v-160H180v160Zm440 0h160v-160H620v160ZM180-180h160v-160H180v160Zm440 0h160v-160H620v160Z\"/>\n",
       "  </svg>\n",
       "    </button>\n",
       "\n",
       "  <style>\n",
       "    .colab-df-container {\n",
       "      display:flex;\n",
       "      gap: 12px;\n",
       "    }\n",
       "\n",
       "    .colab-df-convert {\n",
       "      background-color: #E8F0FE;\n",
       "      border: none;\n",
       "      border-radius: 50%;\n",
       "      cursor: pointer;\n",
       "      display: none;\n",
       "      fill: #1967D2;\n",
       "      height: 32px;\n",
       "      padding: 0 0 0 0;\n",
       "      width: 32px;\n",
       "    }\n",
       "\n",
       "    .colab-df-convert:hover {\n",
       "      background-color: #E2EBFA;\n",
       "      box-shadow: 0px 1px 2px rgba(60, 64, 67, 0.3), 0px 1px 3px 1px rgba(60, 64, 67, 0.15);\n",
       "      fill: #174EA6;\n",
       "    }\n",
       "\n",
       "    .colab-df-buttons div {\n",
       "      margin-bottom: 4px;\n",
       "    }\n",
       "\n",
       "    [theme=dark] .colab-df-convert {\n",
       "      background-color: #3B4455;\n",
       "      fill: #D2E3FC;\n",
       "    }\n",
       "\n",
       "    [theme=dark] .colab-df-convert:hover {\n",
       "      background-color: #434B5C;\n",
       "      box-shadow: 0px 1px 3px 1px rgba(0, 0, 0, 0.15);\n",
       "      filter: drop-shadow(0px 1px 2px rgba(0, 0, 0, 0.3));\n",
       "      fill: #FFFFFF;\n",
       "    }\n",
       "  </style>\n",
       "\n",
       "    <script>\n",
       "      const buttonEl =\n",
       "        document.querySelector('#df-f070abc0-6e75-4a21-8d42-546d43ae2984 button.colab-df-convert');\n",
       "      buttonEl.style.display =\n",
       "        google.colab.kernel.accessAllowed ? 'block' : 'none';\n",
       "\n",
       "      async function convertToInteractive(key) {\n",
       "        const element = document.querySelector('#df-f070abc0-6e75-4a21-8d42-546d43ae2984');\n",
       "        const dataTable =\n",
       "          await google.colab.kernel.invokeFunction('convertToInteractive',\n",
       "                                                    [key], {});\n",
       "        if (!dataTable) return;\n",
       "\n",
       "        const docLinkHtml = 'Like what you see? Visit the ' +\n",
       "          '<a target=\"_blank\" href=https://colab.research.google.com/notebooks/data_table.ipynb>data table notebook</a>'\n",
       "          + ' to learn more about interactive tables.';\n",
       "        element.innerHTML = '';\n",
       "        dataTable['output_type'] = 'display_data';\n",
       "        await google.colab.output.renderOutput(dataTable, element);\n",
       "        const docLink = document.createElement('div');\n",
       "        docLink.innerHTML = docLinkHtml;\n",
       "        element.appendChild(docLink);\n",
       "      }\n",
       "    </script>\n",
       "  </div>\n",
       "\n",
       "\n",
       "<div id=\"df-30ca58ba-3bbc-4b0a-b831-215788ec3839\">\n",
       "  <button class=\"colab-df-quickchart\" onclick=\"quickchart('df-30ca58ba-3bbc-4b0a-b831-215788ec3839')\"\n",
       "            title=\"Suggest charts\"\n",
       "            style=\"display:none;\">\n",
       "\n",
       "<svg xmlns=\"http://www.w3.org/2000/svg\" height=\"24px\"viewBox=\"0 0 24 24\"\n",
       "     width=\"24px\">\n",
       "    <g>\n",
       "        <path d=\"M19 3H5c-1.1 0-2 .9-2 2v14c0 1.1.9 2 2 2h14c1.1 0 2-.9 2-2V5c0-1.1-.9-2-2-2zM9 17H7v-7h2v7zm4 0h-2V7h2v10zm4 0h-2v-4h2v4z\"/>\n",
       "    </g>\n",
       "</svg>\n",
       "  </button>\n",
       "\n",
       "<style>\n",
       "  .colab-df-quickchart {\n",
       "      --bg-color: #E8F0FE;\n",
       "      --fill-color: #1967D2;\n",
       "      --hover-bg-color: #E2EBFA;\n",
       "      --hover-fill-color: #174EA6;\n",
       "      --disabled-fill-color: #AAA;\n",
       "      --disabled-bg-color: #DDD;\n",
       "  }\n",
       "\n",
       "  [theme=dark] .colab-df-quickchart {\n",
       "      --bg-color: #3B4455;\n",
       "      --fill-color: #D2E3FC;\n",
       "      --hover-bg-color: #434B5C;\n",
       "      --hover-fill-color: #FFFFFF;\n",
       "      --disabled-bg-color: #3B4455;\n",
       "      --disabled-fill-color: #666;\n",
       "  }\n",
       "\n",
       "  .colab-df-quickchart {\n",
       "    background-color: var(--bg-color);\n",
       "    border: none;\n",
       "    border-radius: 50%;\n",
       "    cursor: pointer;\n",
       "    display: none;\n",
       "    fill: var(--fill-color);\n",
       "    height: 32px;\n",
       "    padding: 0;\n",
       "    width: 32px;\n",
       "  }\n",
       "\n",
       "  .colab-df-quickchart:hover {\n",
       "    background-color: var(--hover-bg-color);\n",
       "    box-shadow: 0 1px 2px rgba(60, 64, 67, 0.3), 0 1px 3px 1px rgba(60, 64, 67, 0.15);\n",
       "    fill: var(--button-hover-fill-color);\n",
       "  }\n",
       "\n",
       "  .colab-df-quickchart-complete:disabled,\n",
       "  .colab-df-quickchart-complete:disabled:hover {\n",
       "    background-color: var(--disabled-bg-color);\n",
       "    fill: var(--disabled-fill-color);\n",
       "    box-shadow: none;\n",
       "  }\n",
       "\n",
       "  .colab-df-spinner {\n",
       "    border: 2px solid var(--fill-color);\n",
       "    border-color: transparent;\n",
       "    border-bottom-color: var(--fill-color);\n",
       "    animation:\n",
       "      spin 1s steps(1) infinite;\n",
       "  }\n",
       "\n",
       "  @keyframes spin {\n",
       "    0% {\n",
       "      border-color: transparent;\n",
       "      border-bottom-color: var(--fill-color);\n",
       "      border-left-color: var(--fill-color);\n",
       "    }\n",
       "    20% {\n",
       "      border-color: transparent;\n",
       "      border-left-color: var(--fill-color);\n",
       "      border-top-color: var(--fill-color);\n",
       "    }\n",
       "    30% {\n",
       "      border-color: transparent;\n",
       "      border-left-color: var(--fill-color);\n",
       "      border-top-color: var(--fill-color);\n",
       "      border-right-color: var(--fill-color);\n",
       "    }\n",
       "    40% {\n",
       "      border-color: transparent;\n",
       "      border-right-color: var(--fill-color);\n",
       "      border-top-color: var(--fill-color);\n",
       "    }\n",
       "    60% {\n",
       "      border-color: transparent;\n",
       "      border-right-color: var(--fill-color);\n",
       "    }\n",
       "    80% {\n",
       "      border-color: transparent;\n",
       "      border-right-color: var(--fill-color);\n",
       "      border-bottom-color: var(--fill-color);\n",
       "    }\n",
       "    90% {\n",
       "      border-color: transparent;\n",
       "      border-bottom-color: var(--fill-color);\n",
       "    }\n",
       "  }\n",
       "</style>\n",
       "\n",
       "  <script>\n",
       "    async function quickchart(key) {\n",
       "      const quickchartButtonEl =\n",
       "        document.querySelector('#' + key + ' button');\n",
       "      quickchartButtonEl.disabled = true;  // To prevent multiple clicks.\n",
       "      quickchartButtonEl.classList.add('colab-df-spinner');\n",
       "      try {\n",
       "        const charts = await google.colab.kernel.invokeFunction(\n",
       "            'suggestCharts', [key], {});\n",
       "      } catch (error) {\n",
       "        console.error('Error during call to suggestCharts:', error);\n",
       "      }\n",
       "      quickchartButtonEl.classList.remove('colab-df-spinner');\n",
       "      quickchartButtonEl.classList.add('colab-df-quickchart-complete');\n",
       "    }\n",
       "    (() => {\n",
       "      let quickchartButtonEl =\n",
       "        document.querySelector('#df-30ca58ba-3bbc-4b0a-b831-215788ec3839 button');\n",
       "      quickchartButtonEl.style.display =\n",
       "        google.colab.kernel.accessAllowed ? 'block' : 'none';\n",
       "    })();\n",
       "  </script>\n",
       "</div>\n",
       "\n",
       "    </div>\n",
       "  </div>\n"
      ],
      "text/plain": [
       "  sentiment                                               text\n",
       "0  negative  Crappy knockoff. Didn't work for my vehicle,  ...\n",
       "1  positive  Does as it is advertised.  For best results, l...\n",
       "2  positive                          Perfect fit, sealed well.\n",
       "3  negative  The light is white, but the light output is ho...\n",
       "4  positive  I have bought shades for my automobiles in the..."
      ]
     },
     "execution_count": 9,
     "metadata": {},
     "output_type": "execute_result"
    }
   ],
   "source": [
    "train_data.head()"
   ]
  },
  {
   "cell_type": "code",
   "execution_count": 10,
   "metadata": {
    "colab": {
     "base_uri": "https://localhost:8080/",
     "height": 206
    },
    "executionInfo": {
     "elapsed": 23,
     "status": "ok",
     "timestamp": 1722325703926,
     "user": {
      "displayName": "Vishal Bachal",
      "userId": "12745285610469294687"
     },
     "user_tz": -60
    },
    "id": "MFDREVk5MOUm",
    "outputId": "e99e8d83-9fa2-41cb-ee82-5b78bf7ee09d"
   },
   "outputs": [
    {
     "data": {
      "application/vnd.google.colaboratory.intrinsic+json": {
       "summary": "{\n  \"name\": \"valid_data\",\n  \"rows\": 454,\n  \"fields\": [\n    {\n      \"column\": \"sentiment\",\n      \"properties\": {\n        \"dtype\": \"category\",\n        \"num_unique_values\": 2,\n        \"samples\": [\n          \"positive\",\n          \"negative\"\n        ],\n        \"semantic_type\": \"\",\n        \"description\": \"\"\n      }\n    },\n    {\n      \"column\": \"text\",\n      \"properties\": {\n        \"dtype\": \"string\",\n        \"num_unique_values\": 452,\n        \"samples\": [\n          \"Installed quickly and easily on my sister-in-law's PT Cruiser. One screw to remove tail light. Unplug the old one and the bulb, plug in the new one and the bulb. Replace tail light.\",\n          \"Perfect fit\"\n        ],\n        \"semantic_type\": \"\",\n        \"description\": \"\"\n      }\n    }\n  ]\n}",
       "type": "dataframe",
       "variable_name": "valid_data"
      },
      "text/html": [
       "\n",
       "  <div id=\"df-c17b2afd-7e61-47ed-b69d-928b7c15f050\" class=\"colab-df-container\">\n",
       "    <div>\n",
       "<style scoped>\n",
       "    .dataframe tbody tr th:only-of-type {\n",
       "        vertical-align: middle;\n",
       "    }\n",
       "\n",
       "    .dataframe tbody tr th {\n",
       "        vertical-align: top;\n",
       "    }\n",
       "\n",
       "    .dataframe thead th {\n",
       "        text-align: right;\n",
       "    }\n",
       "</style>\n",
       "<table border=\"1\" class=\"dataframe\">\n",
       "  <thead>\n",
       "    <tr style=\"text-align: right;\">\n",
       "      <th></th>\n",
       "      <th>sentiment</th>\n",
       "      <th>text</th>\n",
       "    </tr>\n",
       "  </thead>\n",
       "  <tbody>\n",
       "    <tr>\n",
       "      <th>0</th>\n",
       "      <td>negative</td>\n",
       "      <td>Received the multiple led bulb as pictured, it...</td>\n",
       "    </tr>\n",
       "    <tr>\n",
       "      <th>1</th>\n",
       "      <td>negative</td>\n",
       "      <td>I think this is my first negative review. Sorr...</td>\n",
       "    </tr>\n",
       "    <tr>\n",
       "      <th>2</th>\n",
       "      <td>positive</td>\n",
       "      <td>The boys love it.</td>\n",
       "    </tr>\n",
       "    <tr>\n",
       "      <th>3</th>\n",
       "      <td>positive</td>\n",
       "      <td>Hubby is happy with this, has it filled alread...</td>\n",
       "    </tr>\n",
       "    <tr>\n",
       "      <th>4</th>\n",
       "      <td>negative</td>\n",
       "      <td>For what you get these are VASTLY over priced....</td>\n",
       "    </tr>\n",
       "  </tbody>\n",
       "</table>\n",
       "</div>\n",
       "    <div class=\"colab-df-buttons\">\n",
       "\n",
       "  <div class=\"colab-df-container\">\n",
       "    <button class=\"colab-df-convert\" onclick=\"convertToInteractive('df-c17b2afd-7e61-47ed-b69d-928b7c15f050')\"\n",
       "            title=\"Convert this dataframe to an interactive table.\"\n",
       "            style=\"display:none;\">\n",
       "\n",
       "  <svg xmlns=\"http://www.w3.org/2000/svg\" height=\"24px\" viewBox=\"0 -960 960 960\">\n",
       "    <path d=\"M120-120v-720h720v720H120Zm60-500h600v-160H180v160Zm220 220h160v-160H400v160Zm0 220h160v-160H400v160ZM180-400h160v-160H180v160Zm440 0h160v-160H620v160ZM180-180h160v-160H180v160Zm440 0h160v-160H620v160Z\"/>\n",
       "  </svg>\n",
       "    </button>\n",
       "\n",
       "  <style>\n",
       "    .colab-df-container {\n",
       "      display:flex;\n",
       "      gap: 12px;\n",
       "    }\n",
       "\n",
       "    .colab-df-convert {\n",
       "      background-color: #E8F0FE;\n",
       "      border: none;\n",
       "      border-radius: 50%;\n",
       "      cursor: pointer;\n",
       "      display: none;\n",
       "      fill: #1967D2;\n",
       "      height: 32px;\n",
       "      padding: 0 0 0 0;\n",
       "      width: 32px;\n",
       "    }\n",
       "\n",
       "    .colab-df-convert:hover {\n",
       "      background-color: #E2EBFA;\n",
       "      box-shadow: 0px 1px 2px rgba(60, 64, 67, 0.3), 0px 1px 3px 1px rgba(60, 64, 67, 0.15);\n",
       "      fill: #174EA6;\n",
       "    }\n",
       "\n",
       "    .colab-df-buttons div {\n",
       "      margin-bottom: 4px;\n",
       "    }\n",
       "\n",
       "    [theme=dark] .colab-df-convert {\n",
       "      background-color: #3B4455;\n",
       "      fill: #D2E3FC;\n",
       "    }\n",
       "\n",
       "    [theme=dark] .colab-df-convert:hover {\n",
       "      background-color: #434B5C;\n",
       "      box-shadow: 0px 1px 3px 1px rgba(0, 0, 0, 0.15);\n",
       "      filter: drop-shadow(0px 1px 2px rgba(0, 0, 0, 0.3));\n",
       "      fill: #FFFFFF;\n",
       "    }\n",
       "  </style>\n",
       "\n",
       "    <script>\n",
       "      const buttonEl =\n",
       "        document.querySelector('#df-c17b2afd-7e61-47ed-b69d-928b7c15f050 button.colab-df-convert');\n",
       "      buttonEl.style.display =\n",
       "        google.colab.kernel.accessAllowed ? 'block' : 'none';\n",
       "\n",
       "      async function convertToInteractive(key) {\n",
       "        const element = document.querySelector('#df-c17b2afd-7e61-47ed-b69d-928b7c15f050');\n",
       "        const dataTable =\n",
       "          await google.colab.kernel.invokeFunction('convertToInteractive',\n",
       "                                                    [key], {});\n",
       "        if (!dataTable) return;\n",
       "\n",
       "        const docLinkHtml = 'Like what you see? Visit the ' +\n",
       "          '<a target=\"_blank\" href=https://colab.research.google.com/notebooks/data_table.ipynb>data table notebook</a>'\n",
       "          + ' to learn more about interactive tables.';\n",
       "        element.innerHTML = '';\n",
       "        dataTable['output_type'] = 'display_data';\n",
       "        await google.colab.output.renderOutput(dataTable, element);\n",
       "        const docLink = document.createElement('div');\n",
       "        docLink.innerHTML = docLinkHtml;\n",
       "        element.appendChild(docLink);\n",
       "      }\n",
       "    </script>\n",
       "  </div>\n",
       "\n",
       "\n",
       "<div id=\"df-7e954580-c68b-4748-a453-696b987b5d5f\">\n",
       "  <button class=\"colab-df-quickchart\" onclick=\"quickchart('df-7e954580-c68b-4748-a453-696b987b5d5f')\"\n",
       "            title=\"Suggest charts\"\n",
       "            style=\"display:none;\">\n",
       "\n",
       "<svg xmlns=\"http://www.w3.org/2000/svg\" height=\"24px\"viewBox=\"0 0 24 24\"\n",
       "     width=\"24px\">\n",
       "    <g>\n",
       "        <path d=\"M19 3H5c-1.1 0-2 .9-2 2v14c0 1.1.9 2 2 2h14c1.1 0 2-.9 2-2V5c0-1.1-.9-2-2-2zM9 17H7v-7h2v7zm4 0h-2V7h2v10zm4 0h-2v-4h2v4z\"/>\n",
       "    </g>\n",
       "</svg>\n",
       "  </button>\n",
       "\n",
       "<style>\n",
       "  .colab-df-quickchart {\n",
       "      --bg-color: #E8F0FE;\n",
       "      --fill-color: #1967D2;\n",
       "      --hover-bg-color: #E2EBFA;\n",
       "      --hover-fill-color: #174EA6;\n",
       "      --disabled-fill-color: #AAA;\n",
       "      --disabled-bg-color: #DDD;\n",
       "  }\n",
       "\n",
       "  [theme=dark] .colab-df-quickchart {\n",
       "      --bg-color: #3B4455;\n",
       "      --fill-color: #D2E3FC;\n",
       "      --hover-bg-color: #434B5C;\n",
       "      --hover-fill-color: #FFFFFF;\n",
       "      --disabled-bg-color: #3B4455;\n",
       "      --disabled-fill-color: #666;\n",
       "  }\n",
       "\n",
       "  .colab-df-quickchart {\n",
       "    background-color: var(--bg-color);\n",
       "    border: none;\n",
       "    border-radius: 50%;\n",
       "    cursor: pointer;\n",
       "    display: none;\n",
       "    fill: var(--fill-color);\n",
       "    height: 32px;\n",
       "    padding: 0;\n",
       "    width: 32px;\n",
       "  }\n",
       "\n",
       "  .colab-df-quickchart:hover {\n",
       "    background-color: var(--hover-bg-color);\n",
       "    box-shadow: 0 1px 2px rgba(60, 64, 67, 0.3), 0 1px 3px 1px rgba(60, 64, 67, 0.15);\n",
       "    fill: var(--button-hover-fill-color);\n",
       "  }\n",
       "\n",
       "  .colab-df-quickchart-complete:disabled,\n",
       "  .colab-df-quickchart-complete:disabled:hover {\n",
       "    background-color: var(--disabled-bg-color);\n",
       "    fill: var(--disabled-fill-color);\n",
       "    box-shadow: none;\n",
       "  }\n",
       "\n",
       "  .colab-df-spinner {\n",
       "    border: 2px solid var(--fill-color);\n",
       "    border-color: transparent;\n",
       "    border-bottom-color: var(--fill-color);\n",
       "    animation:\n",
       "      spin 1s steps(1) infinite;\n",
       "  }\n",
       "\n",
       "  @keyframes spin {\n",
       "    0% {\n",
       "      border-color: transparent;\n",
       "      border-bottom-color: var(--fill-color);\n",
       "      border-left-color: var(--fill-color);\n",
       "    }\n",
       "    20% {\n",
       "      border-color: transparent;\n",
       "      border-left-color: var(--fill-color);\n",
       "      border-top-color: var(--fill-color);\n",
       "    }\n",
       "    30% {\n",
       "      border-color: transparent;\n",
       "      border-left-color: var(--fill-color);\n",
       "      border-top-color: var(--fill-color);\n",
       "      border-right-color: var(--fill-color);\n",
       "    }\n",
       "    40% {\n",
       "      border-color: transparent;\n",
       "      border-right-color: var(--fill-color);\n",
       "      border-top-color: var(--fill-color);\n",
       "    }\n",
       "    60% {\n",
       "      border-color: transparent;\n",
       "      border-right-color: var(--fill-color);\n",
       "    }\n",
       "    80% {\n",
       "      border-color: transparent;\n",
       "      border-right-color: var(--fill-color);\n",
       "      border-bottom-color: var(--fill-color);\n",
       "    }\n",
       "    90% {\n",
       "      border-color: transparent;\n",
       "      border-bottom-color: var(--fill-color);\n",
       "    }\n",
       "  }\n",
       "</style>\n",
       "\n",
       "  <script>\n",
       "    async function quickchart(key) {\n",
       "      const quickchartButtonEl =\n",
       "        document.querySelector('#' + key + ' button');\n",
       "      quickchartButtonEl.disabled = true;  // To prevent multiple clicks.\n",
       "      quickchartButtonEl.classList.add('colab-df-spinner');\n",
       "      try {\n",
       "        const charts = await google.colab.kernel.invokeFunction(\n",
       "            'suggestCharts', [key], {});\n",
       "      } catch (error) {\n",
       "        console.error('Error during call to suggestCharts:', error);\n",
       "      }\n",
       "      quickchartButtonEl.classList.remove('colab-df-spinner');\n",
       "      quickchartButtonEl.classList.add('colab-df-quickchart-complete');\n",
       "    }\n",
       "    (() => {\n",
       "      let quickchartButtonEl =\n",
       "        document.querySelector('#df-7e954580-c68b-4748-a453-696b987b5d5f button');\n",
       "      quickchartButtonEl.style.display =\n",
       "        google.colab.kernel.accessAllowed ? 'block' : 'none';\n",
       "    })();\n",
       "  </script>\n",
       "</div>\n",
       "\n",
       "    </div>\n",
       "  </div>\n"
      ],
      "text/plain": [
       "  sentiment                                               text\n",
       "0  negative  Received the multiple led bulb as pictured, it...\n",
       "1  negative  I think this is my first negative review. Sorr...\n",
       "2  positive                                  The boys love it.\n",
       "3  positive  Hubby is happy with this, has it filled alread...\n",
       "4  negative  For what you get these are VASTLY over priced...."
      ]
     },
     "execution_count": 10,
     "metadata": {},
     "output_type": "execute_result"
    }
   ],
   "source": [
    "valid_data.head()"
   ]
  },
  {
   "cell_type": "markdown",
   "metadata": {
    "id": "47ywe8jGSKhL"
   },
   "source": [
    "# Method Unsupervised Start\n",
    "\n",
    "\n"
   ]
  },
  {
   "cell_type": "markdown",
   "metadata": {
    "id": "w1PwpnTSMYy2"
   },
   "source": [
    "K means clustering is a unsupervised machine learning algorithm for grouping similar data points into distinct clusters.The method assigns each data point repeatedly to the closest centroid and updates the centroids based on the average of the points in every cluster after initializing a fixed number of centroids(k).This process is repeated until either the centroids do not change significantly.K-means is popular because of its ease of use and effectiveness in locating underlying patterns in data.\n",
    "\n",
    "This project will use K-means to cluster automotive reviews depending on text features. Instead, we may group the reviews into clusters and then determine the emotion of each cluster by looking at its majority.The reason this approach was chosen is because it works well for exploratory data analysis and can reveal hidden structures in the data without the need for sample labels.I have referred all related information and code from this site https://scikit-learn.org/stable/modules/generated/sklearn.cluster.KMeans.html In addition, a dimension reduction method called UMAP (Uniform Manifold Approximation and Projection) maximizes a low-dimensional representation of high-dimensional data while maintaining its structure. It is helpful for exploratory data analysis and visualization as it is good at identifying patterns and clusters. For further details, see this thorough explanation https://umap-learn.readthedocs.io/en/latest/"
   ]
  },
  {
   "cell_type": "markdown",
   "metadata": {
    "id": "6ujboI4z1VXb"
   },
   "source": [
    "## Training Unsupervised Method Code"
   ]
  },
  {
   "cell_type": "markdown",
   "metadata": {
    "id": "4vb6kyMRNJ9g"
   },
   "source": [
    "First, we lemmatize the text data to make them easier to understand. Next, TF-IDF vectorization, dimensionality reduction using UMAP, and clustering using K-means to convert the text into numerical features.The trained pipeline is saved for future use. Both the training and validation datasets are used to assess the clustering quality using the Silhouette Score and calculating F1 score. ploting Confusion Matrix."
   ]
  },
  {
   "cell_type": "code",
   "execution_count": 11,
   "metadata": {
    "executionInfo": {
     "elapsed": 21,
     "status": "ok",
     "timestamp": 1722325703926,
     "user": {
      "displayName": "Vishal Bachal",
      "userId": "12745285610469294687"
     },
     "user_tz": -60
    },
    "id": "fkJ5LiXoipcX"
   },
   "outputs": [],
   "source": [
    "y_train = train_data['sentiment'].replace({'positive': 1, 'negative': 0})\n",
    "\n",
    "y_valid = valid_data['sentiment'].replace({'positive': 1, 'negative': 0})\n",
    "\n",
    "\n",
    "# Function for converting a numpy array from a DataFrame\n",
    "lemmatizer = nltk.stem.WordNetLemmatizer()\n",
    "def to_array(X):\n",
    "    return X.toarray()\n",
    "\n",
    "def lemmatize_text(text_input):\n",
    "    \"\"\"\n",
    "    Lemmatize the text supplied and return it to its original form.\n",
    "    Text_input (pd.Series or list of str) : The content to be lemmatized in text and It may be a list of strings or a pandas series.\n",
    "\n",
    "     Returns: pd. list or series of str The input format was preserved in the lemmatized text data.\n",
    "\n",
    "    Raises: ValueError: In the event that the input is not a list of strings or a pandas series.\n",
    "    \"\"\"\n",
    "\n",
    "    # Check if the input is a DataFrame\n",
    "    if isinstance(text_input, pd.Series):\n",
    "        return text_input.apply(lambda text: \" \".join([lemmatizer.lemmatize(word) for word in text.split()]))\n",
    "    # Check if the input is a list\n",
    "    elif isinstance(text_input, list):\n",
    "        return [\" \".join([lemmatizer.lemmatize(word) for word in text.split()]) for text in text_input]\n",
    "    else:\n",
    "        raise ValueError(\"Input should be a pandas Series or a list of strings\")\n",
    "\n",
    "\n",
    "\n",
    "def train_unsup():\n",
    "\n",
    "\n",
    "  # Creating the pipeline\n",
    "  pipeline = Pipeline([\n",
    "      ('lemmatizer', FunctionTransformer(lemmatize_text, validate=False)),\n",
    "      ('vectorizer', TfidfVectorizer(stop_words='english', max_features=3000, ngram_range=(1, 2))),\n",
    "      ('to_array', FunctionTransformer(to_array, validate=False)),\n",
    "      ('umap', UMAP(n_components=100, random_state=int(str(student_id)[-2:]))),\n",
    "      ('kmeans', KMeans(n_clusters=2, random_state=int(str(student_id)[-2:]), n_init=30))\n",
    "  ])\n",
    "   # Fiting the pipeline\n",
    "  pipeline.fit(train_data['text'])\n",
    "\n",
    "  # Saving the pipeline\n",
    "  joblib.dump(pipeline, Model_Unsup+'/unsupervised_model.pkl')\n",
    "\n",
    "\n",
    "\n",
    "  # Validation\n",
    "  # Silhouette score\n",
    "  train_clusters = pipeline.predict(train_data['text'])\n",
    "  validation_clusters = pipeline.predict(valid_data['text'])\n",
    "\n",
    "  vectorizer = pipeline.named_steps['vectorizer']\n",
    "  to_array_transformer = pipeline.named_steps['to_array']\n",
    "  umap_transformer = pipeline.named_steps['umap']\n",
    "\n",
    "  silhouette_avg = silhouette_score(umap_transformer.transform(to_array_transformer.transform(vectorizer.transform(train_data['text']))), train_clusters)\n",
    "  # silhouette_avg = silhouette_score(to_array_transformer.transform(vectorizer.transform(train_data['text'])), train_clusters)\n",
    "  print(f\"Silhouette Score for Train Data: {silhouette_avg}\")\n",
    "\n",
    "  silhouette_avg = silhouette_score(umap_transformer.transform(to_array_transformer.transform(vectorizer.transform(valid_data['text']))), validation_clusters)\n",
    "  # silhouette_avg = silhouette_score(to_array_transformer.transform(vectorizer.transform(valid_data['text'])), validation_clusters)\n",
    "  print(f\"Silhouette Score for Validation Data: {silhouette_avg}\")\n",
    "\n",
    "  clusters = pipeline.named_steps['kmeans'].labels_\n",
    "\n",
    "  # Calculate the average_label for each cluster\n",
    "  cluster_0_mean = np.mean(y_train[clusters == 0])\n",
    "  cluster_1_mean = np.mean(y_train[clusters == 1])\n",
    "\n",
    "  # Determine which cluster is positive(1) and which is negative(0)\n",
    "  if cluster_0_mean > cluster_1_mean:\n",
    "      cluster_to_sentiment = {0: \"positive\", 1: \"negative\"}\n",
    "  else:\n",
    "      cluster_to_sentiment = {0: \"negative\", 1: \"positive\"}\n",
    "\n",
    "  joblib.dump(cluster_to_sentiment, Model_Unsup+'/cluster_to_sentiment.pkl')\n",
    "\n",
    "  # Display the mapping\n",
    "  for cluster_label, sentiment in cluster_to_sentiment.items():\n",
    "      print(f\"Cluster {cluster_label} is mostly {sentiment}\")\n",
    "\n",
    "  # Map the clusters to sentiments\n",
    "  predicted_sentiments = np.array([1 if cluster_to_sentiment[cluster] == \"positive\" else 0 for cluster in clusters])\n",
    "  accuracy = accuracy_score(y_train, predicted_sentiments)\n",
    "  print(f\"Clustering accuracy: {accuracy * 100:.2f}%\")\n",
    "\n",
    "  # Calculate the F1 score\n",
    "  f1 = f1_score(y_train, predicted_sentiments)\n",
    "\n",
    "  # Print F1 score\n",
    "  print(\"F1 Score on Training Set:\", f1)\n",
    "\n",
    "    # Generate the confusion_matrix\n",
    "  conf_matrix = confusion_matrix(y_train, predicted_sentiments)\n",
    "  # Ploting the Confusion Matrix\n",
    "  plt.figure(figsize=(8, 6))\n",
    "  sns.heatmap(conf_matrix, annot=True, fmt='d', cmap='Blues', xticklabels=['Negative', 'Positive'], yticklabels=['Negative', 'Positive'])\n",
    "  plt.xlabel('Predicted')\n",
    "  plt.ylabel('Actual')\n",
    "  plt.title('Confusion Matrix')\n",
    "  plt.show()\n",
    "\n",
    "  # Map the validation_clusters to sentiments\n",
    "  validation_clusters = np.array([1 if cluster_to_sentiment[cluster] == \"positive\" else 0 for cluster in validation_clusters])\n",
    "  # Calculating the F1 score\n",
    "  f1 = f1_score(y_valid, validation_clusters)\n",
    "\n",
    "  # Print F1 score\n",
    "  print(\"F1 Score on Validation Set:\", f1)\n",
    "\n",
    "    # Generating the Confusion Matrix\n",
    "  conf_matrix = confusion_matrix(y_valid, validation_clusters)\n",
    "  # Plot the Confusion Matrix\n",
    "  plt.figure(figsize=(8, 6))\n",
    "  sns.heatmap(conf_matrix, annot=True, fmt='d', cmap='Blues', xticklabels=['Negative', 'Positive'], yticklabels=['Negative', 'Positive'])\n",
    "  plt.xlabel('Predicted')\n",
    "  plt.ylabel('Actual')\n",
    "  plt.title('Confusion Matrix')\n",
    "  plt.show()\n",
    "\n",
    "# train_unsup()\n"
   ]
  },
  {
   "cell_type": "markdown",
   "metadata": {
    "id": "3TaUkp9wNVUF"
   },
   "source": [
    "According to the silhouette scores computed for both training and validation sets, 0.8627 and 0.8719 respectively, K-means clustering model is efficient in providing clusters which are well separated as well as defined. Such consistency shows ability of the model to generalize on new unseen data effectively. Nevertheless, F1 scores for K-means are low; standing at 0.1677 on training set and 0.1481 on validation set revealing its limitations in sentiment classification aspect. This is confirmed by confusion matrices. In validation dataset there were 79 true negatives (TN), 1 false positive (FP), 344 false negatives (FN) while for the training dataset there existed 644 true negatives (TN), 7 false positives (FP) out of 2752 false negative (FN) and 278 true positives (TP). These results reveal that many positive reviews are misclassified as negative thus indicating that model faces challenges in distinguishing sentiments effectively while performing such task correctly within some instances such as shown by different scores.K-means low F1 scores arise mainly from its unsupervised nature; it clusters the data based on similarity of features without predefined sentiment labels leading to large classifications errors."
   ]
  },
  {
   "cell_type": "markdown",
   "metadata": {
    "id": "qyJ_xv12Uy9c"
   },
   "source": [
    "## Testing Method Unsupervised Code\n"
   ]
  },
  {
   "cell_type": "markdown",
   "metadata": {
    "id": "Gzr4ChEGNctt"
   },
   "source": [
    "`test_unsup()` is a function that checks if there is already existing a pre-trained unsupervised model for sentiment classification. The new model is trained if the model is not found. The function creates sentiment labels for the test data based on predicting sentiment clusters and converting them into positive or negative ones after loading the model. In order to assess cluster quality, it computes silhouette score and saves new results in CSV format. Finally, it forecasts sentiment for a set of new sample texts to demonstrate the algorithm's performance."
   ]
  },
  {
   "cell_type": "code",
   "execution_count": 12,
   "metadata": {
    "executionInfo": {
     "elapsed": 21,
     "status": "ok",
     "timestamp": 1722325703927,
     "user": {
      "displayName": "Vishal Bachal",
      "userId": "12745285610469294687"
     },
     "user_tz": -60
    },
    "id": "UZs5nzA4ivqT"
   },
   "outputs": [],
   "source": [
    "def test_unsup():\n",
    "  if  not os.path.exists(Model_Unsup+'/unsupervised_model.pkl'):\n",
    "    print(\"Model doest not exist in the directory: \", Model_Unsup+'/unsupervised_model.pkl',\"\\nTraining the model first\")\n",
    "    train_unsup()\n",
    "\n",
    "  print(\"Starting the model testing process\")\n",
    "  # Load the pipeline\n",
    "  loaded_pipeline = joblib.load(Model_Unsup+'/unsupervised_model.pkl')\n",
    "  cluster_to_sentiment = joblib.load(Model_Unsup+'/cluster_to_sentiment.pkl')\n",
    "\n",
    "  # Predict_clusters for the test_data\n",
    "  test_clusters = loaded_pipeline.predict(test_data['text'])\n",
    "\n",
    "  # Map the test_clusters to sentiments\n",
    "  test_clusters = np.array([1 if cluster_to_sentiment[cluster] == \"positive\" else 0 for cluster in test_clusters])\n",
    "\n",
    "  # Save the output to a .csv file\n",
    "  test_data['out_label_model_unsup'] = test_clusters\n",
    "  test_data.to_csv(test_file, index=False)\n",
    "  print(f\"Output saved to {test_file}\")\n",
    "\n",
    "\n",
    "  vectorizer = loaded_pipeline.named_steps['vectorizer']\n",
    "  to_array_transformer = loaded_pipeline.named_steps['to_array']\n",
    "  umap_transformer = loaded_pipeline.named_steps['umap']\n",
    "\n",
    "  silhouette_avg = silhouette_score(umap_transformer.transform(to_array_transformer.transform(vectorizer.transform(test_data['text']))), test_clusters)\n",
    "  print(f\"Silhouette Score for Test Data: {silhouette_avg}\")\n",
    "\n",
    "### predicted: pos neg pos pos neg\n",
    "### truth: neg pos  pos pos neg\n",
    "  # Example of classifying new data\n",
    "  new_texts = [\n",
    "      \"Not good\",\n",
    "      \"Hubby is happy with this, has it filled already.  Second Pit Posse cabinet purchased and very pleased.\",\n",
    "      \"Worked and works great.\",\n",
    "      \"It works well, good product\",\n",
    "      \"You live and you learn . . .<br /><br />I purchased this product because I would need it but I didn't need it immediately so it sat in the tool drawer until I did.  That was my mistake.  When I finally did go to use it, it leaked all over.  First I tightened all the fittings and then I taped all the treads and tightened everything up.  The unit still leaked so I contacted the manufacturer asking about a new hose.  It's been almost two weeks and no answer.  Obviously they have better things to do than to help customers with defective products.<br /><br />The lesson is clear: test the product when you get it because you can then return it.  Now I've got to see if I can find some fittings that will allow me to fashion my own hose so I won't lose my entire investment.<br /><br />I will never darken this company's doorstep again.<br /><br />UPDATE: A couple of weeks ago, I got an e-mail from the company and they sent me two replacement hoses.  Better late than never.  Unfortunately neither of them will hold on to the tire valve (they are the push-on clip type).  When I try to inflate, they just blow off.  Even when I hold them in place they seem to leak.  In 20 minutes of trying with these hoses, I didn't manage to add one pound of air to the tire.<br /><br />UPDATE as of 18-Mar-2016: I tried spraying silicone into the chuck to see if the seal was just too hard to make a proper seal.  Epic fail.  This product is never going to work.  Sadly, they have gone into the trash can because that's the most appropriate place for them.\"\n",
    "\n",
    "\n",
    "  ]\n",
    "  predicted_labels = loaded_pipeline.predict(new_texts)\n",
    "  #Maping the clusters to sentiments\n",
    "  predicted_labels = np.array([1 if cluster_to_sentiment[cluster] == \"positive\" else 0 for cluster in predicted_labels])\n",
    "  print(f\"Predicted Labels: {predicted_labels}\")\n",
    "\n",
    "\n",
    "\n",
    "# test_unsup()"
   ]
  },
  {
   "cell_type": "markdown",
   "metadata": {
    "id": "I8Cvjp2gPxHd"
   },
   "source": [
    "The output shows the sentiment predictions made by the K-means clustering model. This highlights the model's ability to identify positive and negative sentiments, but it's shows some misclassifications. It shows the first example, \"Not good\" predicted as positive but actually this negative, and the same for the second example, \"Hubby is happy with this, has it filled already. Second Pit Posse cabinet purchased and very pleased.\"This is positive, but it shows negative and other examples in that one of the examples is a lengthy negative review model predicted to be correct.\n",
    "\n",
    "\n"
   ]
  },
  {
   "cell_type": "markdown",
   "metadata": {
    "id": "ue3xIDFGSXNH"
   },
   "source": [
    "## Method Unsupervised End\n"
   ]
  },
  {
   "cell_type": "markdown",
   "metadata": {
    "id": "o5jNIHneSfzg"
   },
   "source": [
    "# Method Discriminative Start\n",
    "The discriminative method of machine learning techniques gives various algorithms for various tasks. Support vector machines (SVM) are one such model that we might choose because they perform well in high-dimensional spaces and are robust to overfitting, especially when working with small numbers of samples.For large and complex data sets, better performance can be achieved with models like Gradient Boosting Machines(GBM) and their advanced versions, of these same type of model such as XGBoost.\n",
    "\n",
    " Gradient Boosting Machines (GBM) fit a decision tree to minimize the loss function and correct errors of previous trees in the ensemble thereby learning complex patterns within data and GBM gives High accuracy and flexibility.Extreme Gradient Boosting, or XGBoost, is an improved form of GBM that combines parallel processing, regularization techniques, and other improvements to make it faster, more effective, and popular in competitions and real-world situations because of its excellent scalability and performance.\n",
    "For further details, see this site https://xgboost.readthedocs.io/en/stable/install.html .\n"
   ]
  },
  {
   "cell_type": "code",
   "execution_count": 13,
   "metadata": {
    "executionInfo": {
     "elapsed": 20,
     "status": "ok",
     "timestamp": 1722325703927,
     "user": {
      "displayName": "Vishal Bachal",
      "userId": "12745285610469294687"
     },
     "user_tz": -60
    },
    "id": "KZzeItA7iyIj"
   },
   "outputs": [],
   "source": [
    "# Assuming 'text' is the column containing text data and 'label' is the target variable\n",
    "X_train = train_data['text']\n",
    "y_train = train_data['sentiment'].replace({'positive': 1, 'negative': 0})\n",
    "\n",
    "X_valid = valid_data['text']\n",
    "y_valid = valid_data['sentiment'].replace({'positive': 1, 'negative': 0})\n",
    "\n",
    "X_test = test_data['text']"
   ]
  },
  {
   "cell_type": "markdown",
   "metadata": {
    "id": "zAkC0CWAc1BY"
   },
   "source": [
    "## Training Method Discriminative Code\n"
   ]
  },
  {
   "cell_type": "markdown",
   "metadata": {
    "id": "qGNDL15GQCjN"
   },
   "source": [
    "In this code, we have developed a text categorization system using a Machine Learning approach by combining Natural Language Processing techniques. We preprocess the standardize the text by lemmatizing it and then convert the text into numerical characteristics using TF-IDF. We then create a pipeline to combine all these processes with an XGBoost model in order to predict binary outcomes. We will finally make use of a dataset to train the pipeline and evaluate its performance by computing the accuracy, along with the F1 score, which accounts for the model's balance between recall and precision."
   ]
  },
  {
   "cell_type": "code",
   "execution_count": 14,
   "metadata": {
    "executionInfo": {
     "elapsed": 20,
     "status": "ok",
     "timestamp": 1722325703928,
     "user": {
      "displayName": "Vishal Bachal",
      "userId": "12745285610469294687"
     },
     "user_tz": -60
    },
    "id": "UAfRiq7cixij"
   },
   "outputs": [],
   "source": [
    "lemmatizer = nltk.stem.WordNetLemmatizer()\n",
    "def lemmatize_text(text_input):\n",
    "    '''\n",
    "    Input: text_input (Pandas Series Object or List)\n",
    "\n",
    "    Process: Uses sci-kit learn lemmatizer to lemmatize the text in the input.\n",
    "\n",
    "    Output: Pandas Series or List of strings with lemmatized text.\n",
    "\n",
    "    '''\n",
    "    # Checking if the input is a DataFrame and lematizes the text\n",
    "    if isinstance(text_input, pd.Series):\n",
    "        return text_input.apply(lambda text: \" \".join([lemmatizer.lemmatize(word) for word in text.split()]))\n",
    "\n",
    "    # Check if the input is a list and then lematizes the text\n",
    "    elif isinstance(text_input, list):\n",
    "        return [\" \".join([lemmatizer.lemmatize(word) for word in text.split()]) for text in text_input]\n",
    "    else:\n",
    "        raise ValueError(\"Input should be a pandas Series or a list of strings\")\n",
    "\n",
    "\n",
    "\n",
    "def train_dis():\n",
    "  # lemmatizer = nltk.stem.WordNetLemmatizer()\n",
    "\n",
    "  #Pipeline Creation\n",
    "  pipeline = Pipeline([\n",
    "      ('lemmatizer', FunctionTransformer(lemmatize_text, validate=False)),\n",
    "      ('tfidf', TfidfVectorizer(stop_words='english')),\n",
    "      ('classifier', xgb.XGBClassifier(objective='binary:logistic', eval_metric='logloss',reg_lambda = 0.2))\n",
    "  ])\n",
    "\n",
    "  #Training the Pipeline\n",
    "  pipeline.fit(X_train, y_train)\n",
    "\n",
    "  y_pred = pipeline.predict(X_train)\n",
    "  accuracy = accuracy_score(y_train, y_pred)\n",
    "  print(f\"Accuracy on Training Set: {accuracy:.2f}\")\n",
    "\n",
    "  # Calculating the F1 score\n",
    "  f1 = f1_score(y_train, y_pred)\n",
    "\n",
    "  # Print F1 score\n",
    "  print(\"F1 Score on Training Set:\", f1)\n",
    "\n",
    "    # Creating the confusion matrix\n",
    "  conf_matrix = confusion_matrix(y_train, y_pred)\n",
    "\n",
    "\n",
    "\n",
    "\n",
    "  # Plot the confusion matrix\n",
    "  plt.figure(figsize=(8, 6))\n",
    "  sns.heatmap(conf_matrix, annot=True, fmt='d', cmap='Blues', xticklabels=['Negative', 'Positive'], yticklabels=['Negative', 'Positive'])\n",
    "  plt.xlabel('Predicted')\n",
    "  plt.ylabel('Actual')\n",
    "  plt.title('Confusion Matrix')\n",
    "  plt.show()\n",
    "\n",
    "   # Saving the Model\n",
    "  joblib.dump(pipeline, Model_Dis+'/discriminative_model.pkl')\n",
    "\n",
    "\n",
    "  # Validation\n",
    "  y_pred = pipeline.predict(X_valid)\n",
    "  accuracy = accuracy_score(y_valid, y_pred)\n",
    "  print(f\"Accuracy on Validation Set: {accuracy:.2f}\")\n",
    "  # Calculating the F1 score\n",
    "  f1 = f1_score(y_valid, y_pred)\n",
    "  # Print F1 score\n",
    "  print(\"F1 Score on Validation Set:\", f1)\n",
    "\n",
    "\n",
    "  # Creating the confusion matrix\n",
    "  conf_matrix = confusion_matrix(y_valid, y_pred)\n",
    "\n",
    "  # Plot the confusion matrix\n",
    "  plt.figure(figsize=(8, 6))\n",
    "  sns.heatmap(conf_matrix, annot=True, fmt='d', cmap='Blues', xticklabels=['Negative', 'Positive'], yticklabels=['Negative', 'Positive'])\n",
    "  plt.xlabel('Predicted')\n",
    "  plt.ylabel('Actual')\n",
    "  plt.title('Confusion Matrix')\n",
    "  plt.show()\n",
    "\n",
    "\n",
    "\n",
    "# train_dis()"
   ]
  },
  {
   "cell_type": "markdown",
   "metadata": {
    "id": "SfAXeJhwQaAQ"
   },
   "source": [
    "\n",
    "\n",
    "The machine learning pipeline, based on an XGBoostClassifier for sentiment prediction, demonstrates very good performance; the training set has proven to be of high accuracy of 0.96 and a high F1 score of 0.979, which successfully balances the precision and recall. Confusion matrix shows that the model has identified most of the negative (524) and positive (3027) cases correctly with few incidences of false negatives (3) and false positive (127). With an accuracy of 0.88 and an F1 score of 0.928 on the validation set, the model demonstrated robust performance, correctly identifying 360 positive and 38 negative events while minimizing false positives (42) and false negatives (14) in the process. These results suggest that the model has good generalization power and is robust and reliable for real-world applications, showing a balance between accuracy and recall.\n"
   ]
  },
  {
   "cell_type": "markdown",
   "metadata": {
    "id": "LVi2vGeZc5Fp"
   },
   "source": [
    "## Testing Method Discriminative Code\n"
   ]
  },
  {
   "cell_type": "markdown",
   "metadata": {
    "id": "tLInTDA2QeNQ"
   },
   "source": [
    "First we create `test_dis()`function and using this function, the discriminative sentiment classification model is tested.It initially trains the model if it doesn't find a pre-trained model in the specified directory.This function loads the pre-trained model, saves the results to a csv file, and predicts sentiment labels for the test data.Moreover, it predicts sentiment labels for a collection of example texts, whether the text is positive or negative.\n",
    "\n"
   ]
  },
  {
   "cell_type": "code",
   "execution_count": 15,
   "metadata": {
    "executionInfo": {
     "elapsed": 20,
     "status": "ok",
     "timestamp": 1722325703928,
     "user": {
      "displayName": "Vishal Bachal",
      "userId": "12745285610469294687"
     },
     "user_tz": -60
    },
    "id": "VSTzjETEiy_6"
   },
   "outputs": [],
   "source": [
    "def test_dis():\n",
    "  if  not os.path.exists(Model_Dis+'/discriminative_model.pkl'):\n",
    "    print(\"Model doest not exist in the directory: \", Model_Dis+'/discriminative_model.pkl',\"\\nTraining the model first\")\n",
    "    train_dis()\n",
    "\n",
    "  # Load the pipeline\n",
    "  loaded_pipeline = joblib.load(Model_Dis+'/discriminative_model.pkl')\n",
    "\n",
    "  # Generating predictions on the test_data\n",
    "  test_predictions = loaded_pipeline.predict(test_data['text'])\n",
    "\n",
    "  test_data['out_label_model_dis'] = test_predictions\n",
    "  test_data.to_csv(test_file, index=False)\n",
    "  print(f\"Output saved to {test_file}\")\n",
    "\n",
    "  # Example of classifying new_texts\n",
    "  new_texts = [\n",
    "      \"Not good\",\n",
    "      \"Hubby is happy with this, has it filled already.  Second Pit Posse cabinet purchased and very pleased.\",\n",
    "      \"Worked and works great.\",\n",
    "      \"It works well, good product\",\n",
    "      \"You live and you learn . . .<br /><br />I purchased this product because I would need it but I didn't need it immediately so it sat in the tool drawer until I did.  That was my mistake.  When I finally did go to use it, it leaked all over.  First I tightened all the fittings and then I taped all the treads and tightened everything up.  The unit still leaked so I contacted the manufacturer asking about a new hose.  It's been almost two weeks and no answer.  Obviously they have better things to do than to help customers with defective products.<br /><br />The lesson is clear: test the product when you get it because you can then return it.  Now I've got to see if I can find some fittings that will allow me to fashion my own hose so I won't lose my entire investment.<br /><br />I will never darken this company's doorstep again.<br /><br />UPDATE: A couple of weeks ago, I got an e-mail from the company and they sent me two replacement hoses.  Better late than never.  Unfortunately neither of them will hold on to the tire valve (they are the push-on clip type).  When I try to inflate, they just blow off.  Even when I hold them in place they seem to leak.  In 20 minutes of trying with these hoses, I didn't manage to add one pound of air to the tire.<br /><br />UPDATE as of 18-Mar-2016: I tried spraying silicone into the chuck to see if the seal was just too hard to make a proper seal.  Epic fail.  This product is never going to work.  Sadly, they have gone into the trash can because that's the most appropriate place for them.\"\n",
    "\n",
    "  ]\n",
    "  predicted_labels = loaded_pipeline.predict(new_texts)\n",
    "  print(f\"Predicted Labels: {predicted_labels}\")\n",
    "\n",
    "\n",
    "# test_dis()"
   ]
  },
  {
   "cell_type": "markdown",
   "metadata": {
    "id": "Lwz5IR2MQk0V"
   },
   "source": [
    "This 'test_dis()' function output shows that the discriminative model predicted the sentiment labels as [1, 1, 1, 1, 0].it correctly identified the positive sentiment in four examples and the negative sentiment in one lengthy negative review, it misclassified the first example \"Not good\" as positive,but actually this is negative.Despite this error, the XGBoost model shows superior performance as compared to the K-means clustering model in accurately classifying sentiments in varied textual data."
   ]
  },
  {
   "cell_type": "markdown",
   "metadata": {
    "id": "4gNwyxXNSmVb"
   },
   "source": [
    "## Discriminative Method  End\n"
   ]
  },
  {
   "cell_type": "code",
   "execution_count": 17,
   "metadata": {
    "colab": {
     "base_uri": "https://localhost:8080/",
     "height": 1000
    },
    "executionInfo": {
     "elapsed": 152456,
     "status": "ok",
     "timestamp": 1722325985373,
     "user": {
      "displayName": "Vishal Bachal",
      "userId": "12745285610469294687"
     },
     "user_tz": -60
    },
    "id": "8taYgRj0hs4Y",
    "outputId": "967f81ed-04e9-44a8-92da-44ee5cfb5092"
   },
   "outputs": [
    {
     "name": "stdout",
     "output_type": "stream",
     "text": [
      "Please choose an option:\n",
      "1. Train Model Unsupervised\n",
      "2. Test Model Unsupervised\n",
      "3. Train Model Discriminative\n",
      "4. Test Model Discriminative\n",
      "Enter the number corresponding to your choice: 1\n"
     ]
    },
    {
     "name": "stderr",
     "output_type": "stream",
     "text": [
      "/usr/local/lib/python3.10/dist-packages/umap/umap_.py:1945: UserWarning: n_jobs value 1 overridden to 1 by setting random_state. Use no seed for parallelism.\n",
      "  warn(f\"n_jobs value {self.n_jobs} overridden to 1 by setting random_state. Use no seed for parallelism.\")\n"
     ]
    },
    {
     "name": "stdout",
     "output_type": "stream",
     "text": [
      "Silhouette Score for Train Data: 0.8171215057373047\n",
      "Silhouette Score for Validation Data: 0.8185583353042603\n",
      "Cluster 0 is mostly positive\n",
      "Cluster 1 is mostly negative\n",
      "Clustering accuracy: 25.05%\n",
      "F1 Score on Training Set: 0.16772247360482653\n"
     ]
    },
    {
     "data": {
      "image/png": "[encoded data removed]",
      "text/plain": [
       "<Figure size 800x600 with 2 Axes>"
      ]
     },
     "metadata": {},
     "output_type": "display_data"
    },
    {
     "name": "stdout",
     "output_type": "stream",
     "text": [
      "F1 Score on Validation Set: 0.14814814814814814\n"
     ]
    },
    {
     "data": {
      "image/png": "[encoded data removed]",
      "text/plain": [
       "<Figure size 800x600 with 2 Axes>"
      ]
     },
     "metadata": {},
     "output_type": "display_data"
    }
   ],
   "source": [
    "def main():\n",
    "    print(\"Please choose an option:\")\n",
    "    print(\"1. Train Model Unsupervised\")\n",
    "    print(\"2. Test Model Unsupervised\")\n",
    "    print(\"3. Train Model Discriminative\")\n",
    "    print(\"4. Test Model Discriminative\")\n",
    "\n",
    "    option = input(\"Enter the number corresponding to your choice: \")\n",
    "\n",
    "    if option == '1':\n",
    "        train_unsup()\n",
    "    elif option == '2':\n",
    "        test_unsup()\n",
    "    elif option == '3':\n",
    "        train_dis()\n",
    "    elif option == '4':\n",
    "        test_dis()\n",
    "    else:\n",
    "        print(\"Invalid option. Please enter a number between 1 and 4.\")\n",
    "\n",
    "if __name__ == \"__main__\":\n",
    "    main()"
   ]
  },
  {
   "cell_type": "markdown",
   "metadata": {
    "id": "0kHO1x891yA0"
   },
   "source": [
    "## References"
   ]
  },
  {
   "cell_type": "markdown",
   "metadata": {
    "id": "5CzscerRlEtY"
   },
   "source": [
    "sklearn.feature_extraction -  https://scikit-learn.org/stable/api/sklearn.feature_extraction.html\n",
    "\n",
    "UMAP -  https://www.kaggle.com/code/bsagredo/mall-customer-segmentation-with-umap-kmeans and https://umap-learn.readthedocs.io/en/latest/\n",
    "\n",
    "NLTK Sentiment- https://www.datacamp.com/tutorial/text-analytics-beginners-nltk\n",
    "\n",
    "XGBoost - https://forecastegy.com/posts/xgboost-binary-classification-python/ and https://xgboost.readthedocs.io/en/stable/install.html .\n",
    "\n",
    "TF-IDF in Sentiment - https://www.tutorialspoint.com/tf-idf-in-sentiment-analysis\n"
   ]
  }
 ],
 "metadata": {
  "colab": {
   "authorship_tag": "ABX9TyNsJWQKmi6/XQOOQwRTSc3Y",
   "provenance": []
  },
  "kernelspec": {
   "display_name": "Python 3 (ipykernel)",
   "language": "python",
   "name": "python3"
  },
  "language_info": {
   "codemirror_mode": {
    "name": "ipython",
    "version": 3
   },
   "file_extension": ".py",
   "mimetype": "text/x-python",
   "name": "python",
   "nbconvert_exporter": "python",
   "pygments_lexer": "ipython3",
   "version": "3.11.7"
  }
 },
 "nbformat": 4,
 "nbformat_minor": 4
}
